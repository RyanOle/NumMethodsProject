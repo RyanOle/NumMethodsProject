{
 "cells": [
  {
   "cell_type": "code",
   "execution_count": 1,
   "id": "f71447fd-942e-4ece-a143-b8f919c70351",
   "metadata": {
    "tags": []
   },
   "outputs": [
    {
     "ename": "NameError",
     "evalue": "name 'f' is not defined",
     "output_type": "error",
     "traceback": [
      "\u001b[0;31m---------------------------------------------------------------------------\u001b[0m",
      "\u001b[0;31mNameError\u001b[0m                                 Traceback (most recent call last)",
      "Cell \u001b[0;32mIn[1], line 38\u001b[0m\n\u001b[1;32m     35\u001b[0m     \u001b[38;5;28;01mreturn\u001b[39;00m x, y\n\u001b[1;32m     37\u001b[0m \u001b[38;5;66;03m# Solve the predator-prey model using the Kutta method\u001b[39;00m\n\u001b[0;32m---> 38\u001b[0m x, y \u001b[38;5;241m=\u001b[39m kutta(\u001b[43mf\u001b[49m, x0, y0, a, b, c, d, h)\n\u001b[1;32m     40\u001b[0m \u001b[38;5;66;03m# Plot the results\u001b[39;00m\n\u001b[1;32m     41\u001b[0m plt\u001b[38;5;241m.\u001b[39mplot(t, x, label\u001b[38;5;241m=\u001b[39m\u001b[38;5;124m'\u001b[39m\u001b[38;5;124mPrey\u001b[39m\u001b[38;5;124m'\u001b[39m)\n",
      "\u001b[0;31mNameError\u001b[0m: name 'f' is not defined"
     ]
    }
   ],
   "source": [
    "import numpy as np\n",
    "import matplotlib.pyplot as plt\n",
    "\n",
    "# Define the initial conditions and parameters\n",
    "x0 = 10   # initial prey population\n",
    "y0 = 2    # initial predator population\n",
    "a = 1     # prey growth rate\n",
    "b = 0.1   # predator mortality rate\n",
    "c = 0.01  # predator growth rate\n",
    "d = 0.4   # predator death rate\n",
    "\n",
    "# Define the time steps\n",
    "t0 = 0\n",
    "tf = 100\n",
    "h = 0.01\n",
    "t = np.arange(t0, tf, h)\n",
    "\n",
    "# Define the Kutta method\n",
    "def kutta(f, x0, y0, a, b, c, d, h):\n",
    "    x = [x0]\n",
    "    y = [y0]\n",
    "    for i in range(1, len(t)):\n",
    "        k11 = a*x[i-1] - b*x[i-1]*y[i-1]\n",
    "        k21 = -c*y[i-1] + d*x[i-1]*y[i-1]\n",
    "        k12 = a*(x[i-1] + 0.5*h*k11) - b*(x[i-1] + 0.5*h*k11)*(y[i-1] + 0.5*h*k21)\n",
    "        k22 = -c*(y[i-1] + 0.5*h*k21) + d*(x[i-1] + 0.5*h*k11)*(y[i-1] + 0.5*h*k21)\n",
    "        k13 = a*(x[i-1] + 0.5*h*k12) - b*(x[i-1] + 0.5*h*k12)*(y[i-1] + 0.5*h*k22)\n",
    "        k23 = -c*(y[i-1] + 0.5*h*k22) + d*(x[i-1] + 0.5*h*k12)*(y[i-1] + 0.5*h*k22)\n",
    "        k14 = a*(x[i-1] + h*k13) - b*(x[i-1] + h*k13)*(y[i-1] + h*k23)\n",
    "        k24 = -c*(y[i-1] + h*k23) + d*(x[i-1] + h*k13)*(y[i-1] + h*k23)\n",
    "        x_i = x[i-1] + (h/6)*(k11 + 2*k12 + 2*k13 + k14)\n",
    "        y_i = y[i-1] + (h/6)*(k21 + 2*k22 + 2*k23 + k24)\n",
    "        x.append(x_i)\n",
    "        y.append(y_i)\n",
    "    return x, y\n",
    "\n",
    "# Solve the predator-prey model using the Kutta method\n",
    "x, y = kutta(f, x0, y0, a, b, c, d, h)\n",
    "\n",
    "# Plot the results\n",
    "plt.plot(t, x, label='Prey')\n",
    "plt.plot(t, y, label='Predator')\n",
    "plt.xlabel('Time')\n",
    "plt.ylabel('Population')\n",
    "plt.legend()\n",
    "plt.show()\n"
   ]
  },
  {
   "cell_type": "code",
   "execution_count": null,
   "id": "ef317f01-0ebe-4bc6-af96-0f0c11176b64",
   "metadata": {},
   "outputs": [],
   "source": []
  }
 ],
 "metadata": {
  "kernelspec": {
   "display_name": "Python 3 (ipykernel)",
   "language": "python",
   "name": "python3"
  },
  "language_info": {
   "codemirror_mode": {
    "name": "ipython",
    "version": 3
   },
   "file_extension": ".py",
   "mimetype": "text/x-python",
   "name": "python",
   "nbconvert_exporter": "python",
   "pygments_lexer": "ipython3",
   "version": "3.10.6"
  }
 },
 "nbformat": 4,
 "nbformat_minor": 5
}
